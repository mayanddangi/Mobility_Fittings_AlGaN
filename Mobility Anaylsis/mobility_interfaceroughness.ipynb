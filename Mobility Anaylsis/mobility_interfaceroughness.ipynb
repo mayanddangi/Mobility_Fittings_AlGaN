{
 "cells": [
  {
   "cell_type": "code",
   "execution_count": 1,
   "metadata": {},
   "outputs": [],
   "source": [
    "import numpy as np\n",
    "from scipy.integrate import quad"
   ]
  },
  {
   "cell_type": "code",
   "execution_count": 2,
   "metadata": {},
   "outputs": [],
   "source": [
    "# Constants (SI units)\n",
    "\n",
    "q = 1.602176634e-19                 # Elementary charge (C)\n",
    "m_star = 0.32 * 9.10938356e-31      # Effective mass (kg)\n",
    "hbar = 1.0545718e-34                # Reduced Planck's constant (J.s)\n",
    "eps_0 = 8.854187817e-12  # Vacuum permittivity (F/m)\n",
    "eps_s = 8.9  # Static dielectric constant\n",
    "eps_inf = 5.35  # High-frequency dielectric constant\n",
    "\n",
    "\n",
    "n_2D = 1e17  # 2D carrier density (m^-2)\n",
    "\n",
    "k_F = np.sqrt(2 * np.pi * n_2D)                               # Fermi wavevector (1/m)\n",
    "q_TF = (m_star * q**2)/(2*np.pi *eps_s*eps_0 * hbar**2)    # Thomas-Fermi wavevector (1/m)\n",
    "\n",
    "\n",
    "L = 20e-10  #(m)\n",
    "delta = 3e-10  #(m)\n"
   ]
  },
  {
   "cell_type": "code",
   "execution_count": 3,
   "metadata": {},
   "outputs": [],
   "source": [
    "def G(q, b):\n",
    "    t = b / (b + q)\n",
    "    return (1/8)*(2*t**3 + 3*t**2 + 3*t)\n",
    "\n",
    "\n",
    "b = np.cbrt(33*m_star* (q**2) *n_2D/(8* (hbar**2) *eps_0*eps_s))\n"
   ]
  },
  {
   "cell_type": "code",
   "execution_count": 4,
   "metadata": {},
   "outputs": [
    {
     "name": "stdout",
     "output_type": "stream",
     "text": [
      "Inverse relaxation time (1/tau_IFR): 3.60e+11 s^-1\n",
      "Mobility: 15273.431498645847 cm^2/Vs\n"
     ]
    }
   ],
   "source": [
    "\n",
    "def calculate_tau_ifr(m_star, q, delta, L, n_2D, eps_0, eps_s, k_F, q_TF, G):\n",
    "    \"\"\"\n",
    "    Calculate the inverse of the relaxation time due to interface roughness scattering (1/tau_IFR).\n",
    "\n",
    "    Parameters:\n",
    "        m_star (float): Effective mass of the electron.\n",
    "        q (float): Electron charge (C).\n",
    "        delta_ln2D (float): Roughness parameter.\n",
    "        eps_0 (float): Vacuum permittivity (F/m).\n",
    "        eps_s (float): Static dielectric constant.\n",
    "        L (float): Characteristic length of roughness (m).\n",
    "        k_F (float): Fermi wave vector (1/m).\n",
    "        q_TF (float): Thomas-Fermi screening wave vector (1/m).\n",
    "        G (callable): Screening form factor function G(u).\n",
    "        hbar (float): Reduced Planck's constant (J.s).\n",
    "\n",
    "    Returns:\n",
    "        float: Inverse of relaxation time due to interface roughness scattering (1/tau_IFR).\n",
    "    \"\"\"\n",
    "    # Prefactor\n",
    "    prefactor = (m_star * (q**2 * delta* L* n_2D)**2) / (8 * (eps_0 * eps_s)**2 * hbar**3)\n",
    "\n",
    "    # Define the integrand function\n",
    "    def integrand(u):\n",
    "        numerator = u**4 * np.exp(-(L * k_F * u)**2)\n",
    "        denominator = (u + q_TF * G(u, b) / (2 * k_F))**2 * np.sqrt(1 - u**2)\n",
    "        return numerator / denominator\n",
    "\n",
    "    # Perform the integration from 0 to 1\n",
    "    integral, _ = quad(integrand, 0, 1)\n",
    "\n",
    "    # Calculate 1/tau_IFR\n",
    "    tau_ifr_inv = prefactor * integral\n",
    "\n",
    "    return tau_ifr_inv\n",
    "\n",
    "# Calculate 1/tau_IFR\n",
    "tau_ifr_inv = calculate_tau_ifr(m_star, q, delta, L, n_2D, eps_0, eps_s, k_F, q_TF, G)\n",
    "\n",
    "print(f\"Inverse relaxation time (1/tau_IFR): {tau_ifr_inv:.2e} s^-1\")\n",
    "mobility = (q) / (tau_ifr_inv * m_star)\n",
    "print(\"Mobility:\", mobility*1e4, \"cm^2/Vs\")\n",
    "\n"
   ]
  },
  {
   "cell_type": "code",
   "execution_count": null,
   "metadata": {},
   "outputs": [],
   "source": []
  },
  {
   "cell_type": "code",
   "execution_count": 5,
   "metadata": {},
   "outputs": [
    {
     "name": "stdout",
     "output_type": "stream",
     "text": [
      "Mobility due to interface roughness scattering: 15273.43 cm^2/V·s\n"
     ]
    }
   ],
   "source": [
    "import numpy as np\n",
    "from scipy.integrate import quad\n",
    "\n",
    "def mobility_ifr(delta, L, n_2D, m_star, eps_0, eps_s, q):\n",
    "    \"\"\"\n",
    "    Calculate the mobility limited by interface roughness scattering (IFR).\n",
    "\n",
    "    Parameters:\n",
    "        delta (float): Roughness amplitude (m).\n",
    "        L (float): Roughness correlation length (m).\n",
    "        n_2D (float): 2D carrier density (m^-2).\n",
    "        m_star (float): Effective mass of the electron (kg).\n",
    "        eps_0 (float): Vacuum permittivity (F/m).\n",
    "        eps_s (float): Static dielectric constant.\n",
    "        q (float): Elementary charge (C).\n",
    "\n",
    "    Returns:\n",
    "        float: Mobility limited by interface roughness scattering (cm^2/V·s).\n",
    "    \"\"\"\n",
    "    # Constants\n",
    "    hbar = 1.0545718e-34  # Reduced Planck's constant (J·s)\n",
    "\n",
    "    # Derived parameters\n",
    "    k_F = np.sqrt(2 * np.pi * n_2D)  # Fermi wavevector (1/m)\n",
    "    q_TF = (m_star * q**2) / (2 * np.pi * eps_s * eps_0 * hbar**2)  # Thomas-Fermi wavevector (1/m)\n",
    "\n",
    "    # Screening form factor function G(u)\n",
    "    def G(q, b):\n",
    "        t = b / (b + q)\n",
    "        return (1/8) * (2 * t**3 + 3 * t**2 + 3 * t)\n",
    "\n",
    "    # Screening parameter b\n",
    "    b = np.cbrt(33 * m_star * (q**2) * n_2D / (8 * (hbar**2) * eps_0 * eps_s))\n",
    "\n",
    "    # Define the integrand for the relaxation time\n",
    "    def integrand(u):\n",
    "        numerator = u**4 * np.exp(-(L * k_F * u)**2)\n",
    "        denominator = (u + q_TF * G(u, b) / (2 * k_F))**2 * np.sqrt(1 - u**2)\n",
    "        return numerator / denominator\n",
    "\n",
    "    # Perform the integration from 0 to 1\n",
    "    integral, _ = quad(integrand, 0, 1)\n",
    "\n",
    "    # Prefactor for 1/tau_IFR\n",
    "    prefactor = (m_star * (q**2 * delta * L * n_2D)**2) / (8 * (eps_0 * eps_s)**2 * hbar**3)\n",
    "    tau_ifr_inv = prefactor * integral  # Inverse of relaxation time (1/tau_IFR)\n",
    "\n",
    "    # Calculate mobility\n",
    "    mobility_ifr = (q) / (tau_ifr_inv * m_star)  # Mobility in m^2/V·s\n",
    "    return mobility_ifr * 1e4  # Convert to cm^2/V·s\n",
    "\n",
    "\n",
    "# Example Usage\n",
    "delta = 3e-10  # Roughness amplitude (m)\n",
    "L = 20e-10  # Roughness correlation length (m)\n",
    "n_2D = 1e17  # 2D carrier density (m^-2)\n",
    "m_star = 0.32 * 9.10938356e-31  # Effective mass (kg)\n",
    "eps_0 = 8.854187817e-12  # Vacuum permittivity (F/m)\n",
    "eps_s = 8.9  # Static dielectric constant\n",
    "q = 1.602176634e-19  # Elementary charge (C)\n",
    "\n",
    "# Calculate mobility\n",
    "mobility = mobility_ifr(delta, L, n_2D, m_star, eps_0, eps_s, q)\n",
    "print(f\"Mobility due to interface roughness scattering: {mobility:.2f} cm^2/V·s\")\n"
   ]
  },
  {
   "cell_type": "code",
   "execution_count": null,
   "metadata": {},
   "outputs": [],
   "source": []
  }
 ],
 "metadata": {
  "language_info": {
   "name": "python"
  }
 },
 "nbformat": 4,
 "nbformat_minor": 2
}
