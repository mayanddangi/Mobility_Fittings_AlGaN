{
 "cells": [
  {
   "cell_type": "code",
   "execution_count": 1,
   "metadata": {},
   "outputs": [],
   "source": [
    "import sympy as sp"
   ]
  },
  {
   "cell_type": "code",
   "execution_count": 9,
   "metadata": {},
   "outputs": [
    {
     "name": "stdout",
     "output_type": "stream",
     "text": [
      "Expectation Value of delta_phi:\n",
      "   4      ⎛     4   4       3   3       2   2               ⎞\n",
      "π⋅N ⋅e⋅nₑ⋅⎝- 2⋅b ⋅z₀  - 12⋅b ⋅z₀  - 34⋅b ⋅z₀  - 50⋅b⋅z₀ - 33⎠\n",
      "─────────────────────────────────────────────────────────────\n",
      "                             7                               \n",
      "                            b ⋅κ                             \n",
      "\\frac{\\pi N^{4} e n_{e} \\left(- 2 b^{4} z_{0}^{4} - 12 b^{3} z_{0}^{3} - 34 b^{2} z_{0}^{2} - 50 b z_{0} - 33\\right)}{b^{7} \\kappa}\n"
     ]
    }
   ],
   "source": [
    "# Define symbols\n",
    "z = sp.symbols('z', positive=True)\n",
    "ne, e, kappa, N, b, z0 = sp.symbols('n_e e kappa N b z0', real=True, positive=True)\n",
    "\n",
    "# Define alpha, beta, gamma expressions\n",
    "alpha = 1 / b**2\n",
    "beta = (2 * z0 / b**2) + (4 / b**3)\n",
    "gamma = (z0**2 / b**2) + (4 * z0 / b**3) + (6 / b**4)\n",
    "\n",
    "chi_squared = N**2 * (z + z0)**2 * sp.exp(-b * z)\n",
    "delta_phi = (4 * sp.pi * e / kappa) * ne * N**2 * ((alpha * z**2 + beta * z + gamma) * sp.exp(-b * z) - gamma)\n",
    "\n",
    "# Compute the expectation value <delta_phi>\n",
    "# Expectation value is the integral of delta_phi over z from 0 to infinity\n",
    "expectation_value = sp.integrate(delta_phi * chi_squared, (z, 0, sp.oo))\n",
    "\n",
    "# Simplify the result\n",
    "expectation_value_simplified = sp.simplify(expectation_value)\n",
    "\n",
    "# Display the result\n",
    "print(\"Expectation Value of delta_phi:\")\n",
    "sp.pprint(expectation_value_simplified)\n",
    "sp.print_latex(expectation_value_simplified)"
   ]
  },
  {
   "cell_type": "code",
   "execution_count": 14,
   "metadata": {},
   "outputs": [],
   "source": [
    "A, m_a, h_bar = sp.symbols('A m_a h_bar', real=True, positive=True)\n",
    "T = -A + h_bar**2 * N**2 / (2*m_a) * (1/(2*b) + 1/2*z0 -1/4*b*z0**2)"
   ]
  },
  {
   "cell_type": "code",
   "execution_count": 19,
   "metadata": {},
   "outputs": [],
   "source": [
    "E_b = 1/2*expectation_value_simplified + T"
   ]
  },
  {
   "cell_type": "code",
   "execution_count": 20,
   "metadata": {
    "vscode": {
     "languageId": "latex"
    }
   },
   "outputs": [],
   "source": [
    "# Compute the derivative of E(b) with respect to b\n",
    "dE_db = sp.diff(E_b, b)\n",
    "\n",
    "# Solve for the value of b that minimizes E(b)\n",
    "b_min_solution = sp.solve(dE_db, b)"
   ]
  },
  {
   "cell_type": "code",
   "execution_count": 23,
   "metadata": {
    "vscode": {
     "languageId": "latex"
    }
   },
   "outputs": [
    {
     "name": "stdout",
     "output_type": "stream",
     "text": [
      "                                                                               ↪\n",
      "                                                                               ↪\n",
      "       4      ⎛     3   4       2   3          2        ⎞          4      ⎛    ↪\n",
      "0.5⋅π⋅N ⋅e⋅nₑ⋅⎝- 8⋅b ⋅z₀  - 36⋅b ⋅z₀  - 68⋅b⋅z₀  - 50⋅z₀⎠   3.5⋅π⋅N ⋅e⋅nₑ⋅⎝- 2 ↪\n",
      "───────────────────────────────────────────────────────── - ────────────────── ↪\n",
      "                           7                                                   ↪\n",
      "                          b ⋅κ                                                 ↪\n",
      "\n",
      "↪                                                    2      2 ⎛         2    1 ↪\n",
      "↪                                                   N ⋅h_bar ⋅⎜- 0.25⋅z₀  - ── ↪\n",
      "↪   4   4       3   3       2   2               ⎞             ⎜                ↪\n",
      "↪ ⋅b ⋅z₀  - 12⋅b ⋅z₀  - 34⋅b ⋅z₀  - 50⋅b⋅z₀ - 33⎠             ⎝             2⋅ ↪\n",
      "↪ ─────────────────────────────────────────────── + ────────────────────────── ↪\n",
      "↪              8                                                2⋅mₐ           ↪\n",
      "↪             b ⋅κ                                                             ↪\n",
      "\n",
      "↪   ⎞\n",
      "↪ ──⎟\n",
      "↪  2⎟\n",
      "↪ b ⎠\n",
      "↪ ───\n",
      "↪    \n",
      "↪    \n",
      "\\frac{0.5 \\pi N^{4} e n_{e} \\left(- 8 b^{3} z_{0}^{4} - 36 b^{2} z_{0}^{3} - 68 b z_{0}^{2} - 50 z_{0}\\right)}{b^{7} \\kappa} - \\frac{3.5 \\pi N^{4} e n_{e} \\left(- 2 b^{4} z_{0}^{4} - 12 b^{3} z_{0}^{3} - 34 b^{2} z_{0}^{2} - 50 b z_{0} - 33\\right)}{b^{8} \\kappa} + \\frac{N^{2} h_{bar}^{2} \\left(- 0.25 z_{0}^{2} - \\frac{1}{2 b^{2}}\\right)}{2 m_{a}}\n"
     ]
    }
   ],
   "source": [
    "sp.pprint(dE_db)\n",
    "sp.print_latex(dE_db)"
   ]
  },
  {
   "cell_type": "code",
   "execution_count": null,
   "metadata": {
    "vscode": {
     "languageId": "latex"
    }
   },
   "outputs": [],
   "source": []
  }
 ],
 "metadata": {
  "language_info": {
   "name": "python"
  }
 },
 "nbformat": 4,
 "nbformat_minor": 2
}
