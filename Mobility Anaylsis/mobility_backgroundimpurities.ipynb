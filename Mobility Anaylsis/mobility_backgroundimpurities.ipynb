{
 "cells": [
  {
   "cell_type": "code",
   "execution_count": 1,
   "metadata": {},
   "outputs": [],
   "source": [
    "from mpmath import mp, mpf, pi, power\n"
   ]
  },
  {
   "cell_type": "code",
   "execution_count": 2,
   "metadata": {},
   "outputs": [],
   "source": [
    "# Set precision for mpmath\n",
    "mp.dps = 50  # Decimal places of precision"
   ]
  },
  {
   "cell_type": "code",
   "execution_count": 33,
   "metadata": {},
   "outputs": [],
   "source": [
    "# Define constants (in SI units)\n",
    "hbar = mpf(1.0545718e-34)  # Reduced Planck's constant (J·s)\n",
    "eps0 = mpf(8.854187817e-12)  # Vacuum permittivity (F/m)\n",
    "e = mpf(1.602176634e-19)  # Elementary charge (C)\n",
    "m_e = mpf(9.10938356e-31)  # Electron mass (kg)\n",
    "\n",
    "# Define material and system parameters\n",
    "m_star = mpf(0.26) * m_e  # Effective mass (kg), adjust for specific material\n",
    "epsilon_s = mpf(8.9)  # Relative permittivity of the material\n",
    "\n",
    "\n",
    "n_2DEG = mpf(7.95e16)  # Surface charge density (m^-2), adjust for specific system\n",
    "N_imp = mpf(1.7e23)  # Impurity density (m^-3), adjust for specific system"
   ]
  },
  {
   "cell_type": "code",
   "execution_count": 34,
   "metadata": {},
   "outputs": [
    {
     "name": "stdout",
     "output_type": "stream",
     "text": [
      "Numer: 2.8828071936989147496267449811464242072546323666322e-120 Denom: 2.3070438800873174790722533604733610063555871399077e-118\n",
      "0.012495675607131519580350624517063208078890077643667\n",
      "Impurity mobility (μ_imp): 16476.36915539201601471583412385453464744384006706 cm^2/(V·s)\n"
     ]
    }
   ],
   "source": [
    "# Calculate the prefactor\n",
    "numerator = 4 * power(2 * pi, 5 / 2) * power(hbar, 3) * power(eps0 * epsilon_s, 2)\n",
    "denominator = power(m_star, 2) * power(e, 3)\n",
    "\n",
    "print(f'Numer: {numerator} Denom: {denominator}')\n",
    "prefactor = (\n",
    "    4 * power(2 * pi, 5 / 2) * power(hbar, 3) * power(eps0 * epsilon_s, 2)\n",
    ") / (power(m_star, 2) * power(e, 3))\n",
    "\n",
    "print(prefactor)\n",
    "\n",
    "# Calculate the mobility (μ_imp)\n",
    "mobility = prefactor * (power(n_2DEG, 3 / 2) / N_imp)\n",
    "\n",
    "# Convert mobility to cm^2/(V·s)\n",
    "mobility_in_cm2_Vs = mobility * 1e4  # Convert from m^2/(V·s) to cm^2/(V·s)\n",
    "\n",
    "# Print the result\n",
    "print(f\"Impurity mobility (μ_imp): {mobility_in_cm2_Vs} cm^2/(V·s)\")"
   ]
  },
  {
   "cell_type": "code",
   "execution_count": null,
   "metadata": {},
   "outputs": [],
   "source": []
  },
  {
   "cell_type": "code",
   "execution_count": null,
   "metadata": {},
   "outputs": [],
   "source": []
  },
  {
   "cell_type": "code",
   "execution_count": null,
   "metadata": {},
   "outputs": [],
   "source": []
  },
  {
   "cell_type": "code",
   "execution_count": 31,
   "metadata": {},
   "outputs": [],
   "source": [
    "import numpy as np\n",
    "from astropy.constants import e, m_e, eps0, hbar\n",
    "from astropy import units as u\n"
   ]
  },
  {
   "cell_type": "code",
   "execution_count": 35,
   "metadata": {},
   "outputs": [
    {
     "name": "stdout",
     "output_type": "stream",
     "text": [
      "Prefactor: 2.112e-02 J3 s3 F2 / (kg2 m2 C3)\n",
      "Impurity mobility (μ_imp): 2.112e+02 cm2 / (V s)\n"
     ]
    }
   ],
   "source": [
    "# Use the SI system explicitly for the constants\n",
    "e = e.si  # Elementary charge (C)\n",
    "m_e = m_e.si  # Electron mass (kg)\n",
    "eps0 = eps0.si  # Vacuum permittivity (F/m)\n",
    "hbar = hbar.si  # Reduced Planck's constant (J·s)\n",
    "\n",
    "# Define material and system parameters\n",
    "m_star = 0.20 * m_e  # Effective mass (for GaAs)\n",
    "epsilon_s = 8.9 # Relative permittivity of the material\n",
    "n_s = 1e16 * u.m**-2  # Surface charge density\n",
    "N_imp = 1e24 * u.m**-3  # Impurity density\n",
    "\n",
    "# Calculate the prefactor\n",
    "prefactor = (\n",
    "    4 * (2 * np.pi)**(5 / 2) * hbar**3 * (eps0 * epsilon_s)**2\n",
    ") / ((m_star**2) * e**3)\n",
    "\n",
    "# Calculate the impurity mobility (μ_imp)\n",
    "mobility = prefactor * (n_s**(3 / 2) / N_imp)\n",
    "\n",
    "# Convert mobility to cm^2/(V·s)\n",
    "mobility = mobility.to(u.cm**2 / (u.V * u.s))\n",
    "\n",
    "# Print results\n",
    "print(f\"Prefactor: {prefactor:.3e}\")\n",
    "print(f\"Impurity mobility (μ_imp): {mobility:.3e}\")\n"
   ]
  },
  {
   "cell_type": "code",
   "execution_count": null,
   "metadata": {},
   "outputs": [],
   "source": []
  }
 ],
 "metadata": {
  "language_info": {
   "name": "python"
  }
 },
 "nbformat": 4,
 "nbformat_minor": 2
}
