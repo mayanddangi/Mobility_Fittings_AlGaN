{
 "cells": [
  {
   "cell_type": "code",
   "execution_count": 1,
   "metadata": {},
   "outputs": [],
   "source": [
    "import numpy as np"
   ]
  },
  {
   "cell_type": "code",
   "execution_count": 15,
   "metadata": {},
   "outputs": [],
   "source": [
    "# Constants (SI units)\n",
    "\n",
    "q = 1.602176634e-19                 # Elementary charge (C)\n",
    "m_star = 0.2 * 9.10938356e-31      # Effective mass (kg)\n",
    "epsilon_0 = 8.854187817e-12         # Vacuum permittivity (F/m)\n",
    "epsilon_s = 8.86                    # Relative permittivity of the material\n",
    "hbar = 1.0545718e-34                # Reduced Planck's constant (J.s)\n",
    "\n",
    "c0 = 5.04e-10                       # Lattice constant (m)\n",
    "\n",
    "\n",
    "omega_0 = 1.4e14  # Optical phonon frequency (rad/s)\n",
    "eps_0 = 8.854187817e-12  # Vacuum permittivity (F/m)\n",
    "eps_s = 8.9  # Static dielectric constant\n",
    "eps_inf = 5.35  # High-frequency dielectric constant\n",
    "n_2D = 1e16  # 2D carrier density (m^-2)\n",
    "T = 100  # Temperature (K)\n",
    "q = 1.602176634e-19  # Electron charge (C)\n",
    "k_B=1.380649e-23\n",
    "kT = 0.0259  # Thermal energy (eV)\n",
    "\n",
    "\n",
    "# Calculate the harmonic mean of dielectric constants\n",
    "eps_p = 2 / ((1 / eps_s) + (1 / eps_inf))"
   ]
  },
  {
   "cell_type": "code",
   "execution_count": 16,
   "metadata": {},
   "outputs": [
    {
     "name": "stdout",
     "output_type": "stream",
     "text": [
      "3354039.467766358\n"
     ]
    }
   ],
   "source": [
    "E_POP = 0.092 * 1.60218e-19         # J\n",
    "Q_0 = np.sqrt(2 * m_star * E_POP) / hbar\n",
    "z = np.pi * hbar**2 * n_2D / (m_star * kT * q)\n",
    "b = np.cbrt(33*m_star* (q**2) *n_2D/(8* (hbar**2) *epsilon_0*eps_s))\n",
    "def F(z):\n",
    "    return 1+(1-np.exp(-z))/z\n",
    "def N_B(T):\n",
    "    return 1/(np.exp(E_POP/q/(kT/300*T))-1)\n",
    "def G(q, b):\n",
    "    term1 = b*(8*b**2 + 9*Q_0*b + 3*Q_0**2)\n",
    "    term2 = 8*(Q_0+b)**3\n",
    "    return term1/term2\n",
    "\n",
    "mobility = 2*Q_0 * hbar**2 * F(z) * eps_0 * eps_p/(q * m_star**2 * (E_POP/hbar) * N_B(T) * G(Q_0, b))\n",
    "\n",
    "print(mobility*1e4)"
   ]
  },
  {
   "cell_type": "code",
   "execution_count": null,
   "metadata": {},
   "outputs": [],
   "source": []
  },
  {
   "cell_type": "code",
   "execution_count": null,
   "metadata": {},
   "outputs": [],
   "source": []
  },
  {
   "cell_type": "code",
   "execution_count": null,
   "metadata": {},
   "outputs": [],
   "source": []
  },
  {
   "cell_type": "code",
   "execution_count": null,
   "metadata": {},
   "outputs": [],
   "source": []
  },
  {
   "cell_type": "code",
   "execution_count": null,
   "metadata": {},
   "outputs": [],
   "source": []
  },
  {
   "cell_type": "code",
   "execution_count": 13,
   "metadata": {},
   "outputs": [
    {
     "name": "stdout",
     "output_type": "stream",
     "text": [
      "Optical phonon scattering-limited mobility (mu_OP): 1.76e+07 m^2/Vs\n"
     ]
    }
   ],
   "source": [
    "\n",
    "def calculate_mu_op(m_star, omega_0, eps_0, eps_p, eps_s, eps_inf, n_2D, T, q, hbar=1.0545718e-34, k_B=1.380649e-23):\n",
    "    \"\"\"\n",
    "    Calculate the optical phonon scattering-limited mobility (mu_OP).\n",
    "\n",
    "    Parameters:\n",
    "        m_star (float): Effective mass of the electron.\n",
    "        omega_0 (float): Optical phonon frequency (rad/s).\n",
    "        eps_0 (float): Vacuum permittivity (F/m).\n",
    "        eps_p (float): Harmonic mean of static and high-frequency dielectric constants.\n",
    "        eps_s (float): Static dielectric constant.\n",
    "        eps_inf (float): High-frequency dielectric constant.\n",
    "        n_2D (float): 2D carrier density (m^-2).\n",
    "        T (float): Temperature (K).\n",
    "        q (float): Electron charge (C).\n",
    "        hbar (float): Reduced Planck's constant (J.s).\n",
    "        k_B (float): Boltzmann constant (J/K).\n",
    "\n",
    "    Returns:\n",
    "        float: Optical phonon scattering-limited mobility (m^2/Vs).\n",
    "    \"\"\"\n",
    "    # Calculate Q0 (polar optical phonon wave vector)\n",
    "    Q0 = np.sqrt(2 * m_star * (hbar * omega_0) / hbar**2)\n",
    "\n",
    "    # Bose-Einstein distribution function\n",
    "    N_B = 1 / (np.exp(hbar * omega_0 / (k_B * T)) - 1)\n",
    "\n",
    "    # Screening form factor G(Q0)\n",
    "    b = 8  # Assumed constant in formula\n",
    "    G_Q0 = b * (8 * b**2 + 9 * Q0 * b + 3 * Q0**2) / (8 * (Q0 + b)**3)\n",
    "\n",
    "    # Calculate F(z)\n",
    "    z = np.pi * hbar**2 * n_2D / (m_star * k_B * T)\n",
    "    F_z = 1 + (1 - np.exp(-z)) / z\n",
    "\n",
    "    # Optical phonon mobility formula\n",
    "    mu_OP = (2 * Q0 * hbar**2 * F_z * eps_0 * eps_p) / (q * m_star**2 * omega_0 * N_B * G_Q0)\n",
    "\n",
    "    return mu_OP\n",
    "\n",
    "# Calculate mobility\n",
    "mu_op = calculate_mu_op(m_star, omega_0, eps_0, eps_p, eps_s, eps_inf, n_2D, T, q)\n",
    "\n",
    "print(f\"Optical phonon scattering-limited mobility (mu_OP): {mu_op:.2e} m^2/Vs\")"
   ]
  },
  {
   "cell_type": "code",
   "execution_count": 7,
   "metadata": {},
   "outputs": [
    {
     "name": "stdout",
     "output_type": "stream",
     "text": [
      "Optical phonon mobility (μ_OP): 2.196e+03 cm^2/V·s\n"
     ]
    }
   ],
   "source": [
    "import numpy as np\n",
    "\n",
    "# Constants\n",
    "hbar = 1.0545718e-34  # Reduced Planck constant (J·s)\n",
    "k_B = 1.380649e-23    # Boltzmann constant (J/K)\n",
    "e = 1.602176634e-19   # Elementary charge (C)\n",
    "epsilon_0 = 8.854187817e-12  # Vacuum permittivity (F/m)\n",
    "m_e = 9.10938356e-31  # Electron mass (kg)\n",
    "\n",
    "# Optical phonon mobility function\n",
    "def optical_phonon_mobility(T, n_2DEG, m_star_ratio, E_POP, epsilon_s, epsilon_inf):\n",
    "    \"\"\"\n",
    "    Calculate the optical phonon scattering-limited mobility (μ_OP).\n",
    "\n",
    "    Parameters:\n",
    "        T (float): Temperature (K)\n",
    "        n_2DEG (float): 2D electron gas concentration (m^-2)\n",
    "        m_star_ratio (float): Effective mass ratio (m*/m_e)\n",
    "        E_POP (float): Optical phonon energy (eV)\n",
    "        epsilon_s (float): Static dielectric constant\n",
    "        epsilon_inf (float): High-frequency dielectric constant\n",
    "\n",
    "    Returns:\n",
    "        float: Optical phonon mobility (m^2/V·s)\n",
    "    \"\"\"\n",
    "    # Derived parameters\n",
    "    m_star = m_star_ratio * m_e  # Effective mass (kg)\n",
    "    omega_0 = E_POP * e / hbar   # Optical phonon angular frequency (rad/s)\n",
    "    Q_0 = np.sqrt(2 * m_star * omega_0 / hbar)  # Polar optical phonon wave vector (m^-1)\n",
    "    epsilon_p = 2 / (1 / epsilon_inf - 1 / epsilon_s)  # Effective permittivity\n",
    "    z = np.pi * hbar**2 * n_2DEG / (m_star * k_B * T)  # Screening parameter\n",
    "\n",
    "    # Bose-Einstein distribution for optical phonons\n",
    "    N_B = 1 / (np.exp(hbar * omega_0 / (k_B * T)) - 1)\n",
    "\n",
    "    # Screening form factor\n",
    "    b = (8 * (epsilon_s / epsilon_p) * (e**2 * n_2DEG) / (hbar**2 * Q_0))\n",
    "    G_Q0 = (b * (8 * b**2 + 9 * Q_0**2) + 3 * Q_0**4) / (8 * (Q_0 + b)**3)\n",
    "\n",
    "    # F(z) screening term\n",
    "    F_z = 1 + (1 - np.exp(-z)) / z\n",
    "\n",
    "    # Optical phonon mobility\n",
    "    numerator = 2 * Q_0 * hbar**2 * epsilon_0 * epsilon_p * F_z\n",
    "    denominator = e * m_star**2 * omega_0 * N_B * G_Q0\n",
    "    mu_OP = numerator / denominator  # Mobility in m^2/V·s\n",
    "\n",
    "    return mu_OP\n",
    "\n",
    "# Example parameters\n",
    "T = 300  # Temperature (K)\n",
    "n_2DEG = 1e17  # 2D electron gas density (m^-2)\n",
    "m_star_ratio = 0.2  # Effective mass ratio (m*/m_e)\n",
    "E_POP = 0.092  # Optical phonon energy (eV)\n",
    "epsilon_s = 8.9  # Static dielectric constant\n",
    "epsilon_inf = 5.5  # High-frequency dielectric constant\n",
    "\n",
    "# Calculate mobility\n",
    "mu_OP = optical_phonon_mobility(T, n_2DEG, m_star_ratio, E_POP, epsilon_s, epsilon_inf)\n",
    "print(f\"Optical phonon mobility (μ_OP): {mu_OP*1e4:.3e} cm^2/V·s\")"
   ]
  },
  {
   "cell_type": "code",
   "execution_count": null,
   "metadata": {},
   "outputs": [],
   "source": []
  }
 ],
 "metadata": {
  "language_info": {
   "name": "python"
  }
 },
 "nbformat": 4,
 "nbformat_minor": 2
}
