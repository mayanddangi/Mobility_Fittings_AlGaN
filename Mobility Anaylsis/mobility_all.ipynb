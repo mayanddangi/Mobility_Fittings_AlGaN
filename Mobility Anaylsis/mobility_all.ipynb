{
 "cells": [
  {
   "cell_type": "code",
   "execution_count": 1,
   "metadata": {},
   "outputs": [],
   "source": [
    "import numpy as np\n",
    "from scipy.integrate import quad\n",
    "import matplotlib.pyplot as plt"
   ]
  },
  {
   "cell_type": "code",
   "execution_count": 2,
   "metadata": {},
   "outputs": [],
   "source": [
    "# Constants in SI units\n",
    "q = 1.60217662e-19      # Elementary charge (C)\n",
    "m_e = 9.10938356e-31    # Electron mass (kg)\n",
    "eps0 = 8.85418782e-12   # Vacuum permittivity (F/m)\n",
    "hbar = 1.0545718e-34    # Reduced Planck constant (J.s)\n",
    "k_B = 1.380649e-23      # Boltzmann constant (J/K)"
   ]
  },
  {
   "cell_type": "code",
   "execution_count": 53,
   "metadata": {},
   "outputs": [],
   "source": [
    "# ---------------------------------------------\n",
    "# Define functions for material parameters\n",
    "# ---------------------------------------------\n",
    "def a_func(x):\n",
    "    a = 3.189 + (3.112 - 3.189) * x  # Lattice constant a (Angstrom)\n",
    "    # print(f\"Lattice constant a: {a:.5f} Å\")\n",
    "    return (3.189 + (3.112 - 3.189) * x) * 1e-10  # Lattice constant a (m)\n",
    "\n",
    "def c_func(x):\n",
    "    c = 5.185 + (4.982 - 5.185) * x  # Lattice constant c (Angstrom)\n",
    "    # print(f\"Lattice constant c: {c:.5f} Å\")\n",
    "    return (5.185 + (4.982 - 5.185) * x) * 1e-10  # Lattice constant c (m)\n",
    "\n",
    "def m_star_func(x):\n",
    "    return (0.2 + (0.4 - 0.2) * x) * m_e  # Effective mass (kg)\n",
    "\n",
    "def epsilon_s_func(x):\n",
    "    return 8.9 + (8.5 - 8.9) * x  # Static dielectric constant\n",
    "\n",
    "def Volume_unitcell_func(x):\n",
    "    vol = (np.sqrt(3) / 2) * a_func(x)**2 * c_func(x)  # Unit cell volume (m³)\n",
    "    # print(f\"Volume of unit cell: {vol:.5e} m³\")\n",
    "    return vol\n",
    "\n",
    "\n",
    "# ---------------------------------------------\n",
    "# Function 1: Interface Roughness Scattering (IRF)\n",
    "# ---------------------------------------------\n",
    "def mobility_irf(T, n_2DEG, L, delta, m_star, epsilon_s):\n",
    "    \"\"\"\n",
    "    Calculate mobility limited by interface roughness scattering.\n",
    "    Parameters:\n",
    "        T: Temperature (K)\n",
    "        n_2DEG: 2D carrier density (m^-2)\n",
    "        L: Roughness length scale (m)\n",
    "        delta: Roughness amplitude (m)\n",
    "        m_star: Effective mass (kg)\n",
    "        epsilon_s: Static dielectric constant (dimensionless)\n",
    "    \"\"\"\n",
    "    k_F = np.sqrt(2 * np.pi * n_2DEG)  # Fermi wavevector (1/m)\n",
    "    q_TF = (m_star * q**2) / (2 * np.pi * epsilon_s * eps0 * hbar**2)  # Thomas-Fermi wavevector (1/m)\n",
    "    \n",
    "    # Define screening function\n",
    "    def G(q, b):\n",
    "        return (1 / 8) * ((2 * (b / (b + q))**3) + 3 * (b / (b + q))**2 + 3 * (b / (b + q)))\n",
    "    \n",
    "    b = np.cbrt(33 * m_star * (q**2) * n_2DEG / (8 * (hbar**2) * eps0 * epsilon_s))\n",
    "    \n",
    "    # Define integrand for scattering\n",
    "    def integrand(u):\n",
    "        numerator = u**4 * np.exp(-(L * k_F * u)**2)\n",
    "        denominator = (u + q_TF * G(u, b) / (2 * k_F))**2 * np.sqrt(1 - u**2)\n",
    "        return numerator / denominator\n",
    "    \n",
    "    integral, _ = quad(integrand, 0, 1)\n",
    "    \n",
    "    # Calculate inverse relaxation time (1/tau)\n",
    "    tau_ifr_inv = (m_star * (q**2 * delta * L * n_2DEG)**2 / (8 * (eps0 * epsilon_s)**2 * hbar**3)) * integral\n",
    "    \n",
    "    # Calculate mobility\n",
    "    mu_irf = q / (tau_ifr_inv * m_star)\n",
    "    return mu_irf * 1e4  # Convert to cm^2/(V·s)\n",
    "\n",
    "\n",
    "# ---------------------------------------------\n",
    "# Function 2: Optical Phonon Scattering (POP)\n",
    "# ---------------------------------------------\n",
    "def mobility_pop(T, n_2DEG, omega_0, epsilon_s, epsilon_inf, m_star):\n",
    "    \"\"\"\n",
    "    Calculate mobility limited by polar optical phonon scattering.\n",
    "    Parameters:\n",
    "        T: Temperature (K)\n",
    "        n_2DEG: 2D carrier density (m^-2)\n",
    "        omega_0: Optical phonon frequency (rad/s)\n",
    "        epsilon_s: Static dielectric constant (dimensionless)\n",
    "        epsilon_inf: High-frequency dielectric constant (dimensionless)\n",
    "        m_star: Effective mass (kg)\n",
    "    \"\"\"\n",
    "    eps_p = 2 / ((1 / epsilon_s) + (1 / epsilon_inf))  # Harmonic mean of dielectric constants\n",
    "    Q0 = np.sqrt(2 * m_star * (hbar * omega_0) / hbar**2)\n",
    "    z = np.pi * hbar**2 * n_2DEG / (m_star * q * T * k_B)\n",
    "    \n",
    "    # Bose-Einstein distribution function\n",
    "    N_B = 1 / (np.exp(hbar * omega_0 / (k_B * T)) - 1)\n",
    "    \n",
    "    # Screening form factor G(Q0)\n",
    "    b = 8\n",
    "    G_Q0 = b * (8 * b**2 + 9 * Q0 * b + 3 * Q0**2) / (8 * (Q0 + b)**3)\n",
    "    \n",
    "    # Mobility formula\n",
    "    mu_pop = (2 * Q0 * hbar**2 * (1 + (1 - np.exp(-z)) / z) * eps0 * eps_p) / (q * m_star**2 * omega_0 * N_B * G_Q0)\n",
    "    return mu_pop * 1e4  # Convert to cm^2/(V·s)\n",
    "\n",
    "\n",
    "# ---------------------------------------------\n",
    "# Function 3: Background Impurity Scattering\n",
    "# ---------------------------------------------\n",
    "def mobility_imp(T, n_2DEG, N_imp, epsilon_s, m_star):\n",
    "    \"\"\"\n",
    "    Calculate mobility limited by impurity scattering.\n",
    "    Parameters:\n",
    "        T: Temperature (K)\n",
    "        n_2DEG: 2D carrier density (m^-2)\n",
    "        N_imp: Impurity density (m^-3)\n",
    "        epsilon_s: Static dielectric constant (dimensionless)\n",
    "        m_star: Effective mass (kg)\n",
    "    \"\"\"\n",
    "    prefactor = (\n",
    "        4 * (2 * np.pi)**(5 / 2) * hbar**3 * (eps0 * epsilon_s)**2\n",
    "    ) / ((m_star**2) * q**3)\n",
    "    \n",
    "    # Mobility formula\n",
    "    mu_imp = prefactor * (n_2DEG**(3 / 2) / N_imp)\n",
    "    return mu_imp * 1e4  # Convert to cm^2/(V·s)\n",
    "\n",
    "\n",
    "# ---------------------------------------------\n",
    "# Function 4: Dislocation Scattering\n",
    "# ---------------------------------------------\n",
    "def mobility_dislocation(T, n_2DEG, N_DIS, f_DIS, m_star, q, epsilon_0, epsilon_s, c0):\n",
    "    \"\"\"\n",
    "    Calculate mobility limited by dislocation scattering.\n",
    "\n",
    "    Parameters:\n",
    "        n_2DEG (float): 2D carrier density (m^-2).\n",
    "        N_DIS (float): Density of dislocation scattering centers (m^-2).\n",
    "        f_DIS (float): Form factor (dimensionless).\n",
    "        m_star (float): Effective mass of the electron (kg).\n",
    "        q (float): Elementary charge (C).\n",
    "        epsilon_0 (float): Vacuum permittivity (F/m).\n",
    "        epsilon_s (float): Static dielectric constant.\n",
    "        c0 (float): Lattice constant (m).\n",
    "\n",
    "    Returns:\n",
    "        float: Mobility limited by dislocation scattering (cm^2/V·s).\n",
    "    \"\"\"\n",
    "\n",
    "    # Derived parameters\n",
    "    k_F = np.sqrt(2 * np.pi * n_2DEG)  # Fermi wavevector (1/m)\n",
    "    q_TF = (m_star * q**2) / (2 * np.pi * epsilon_s * epsilon_0 * hbar**2)  # Thomas-Fermi wavevector (1/m)\n",
    "\n",
    "    # Define the integrand\n",
    "    def integrand(u):\n",
    "        return 1 / ((u + q_TF / (2 * k_F))**2 * np.sqrt(1 - u**2))\n",
    "\n",
    "    # Perform the integration\n",
    "    integral_result = quad(integrand, 0, 1)\n",
    "\n",
    "    # Scattering rate calculation\n",
    "    scattering_rate = (\n",
    "        (q**4 * m_star * N_DIS * f_DIS**2) /\n",
    "        (c0**2 * (epsilon_0 * epsilon_s)**2 * hbar**3 * 4 * np.pi * k_F**4)\n",
    "    ) * float(integral_result[0])\n",
    "\n",
    "    # Scattering time (τ_DIS)\n",
    "    scattering_time = 1 / scattering_rate\n",
    "\n",
    "    # Mobility calculation\n",
    "    mobility = (q * scattering_time) / m_star  # Mobility in m^2/V·s\n",
    "    return mobility * 1e4  # Convert to cm^2/V·s\n",
    "\n",
    "\n",
    "# ---------------------------------------------\n",
    "# Function 5: Alloy Disorder Scattering\n",
    "# ---------------------------------------------\n",
    "\n",
    "def mobility_alloy_disorder(T, n_2DEG, x, m_star, epsilon_s, Volume_unitcell, delta_V0=2.0 * 1.6e-19):\n",
    "    \n",
    "    \"\"\"\n",
    "    Calculate the mobility limited by alloy disorder scattering.\n",
    "\n",
    "    Parameters:\n",
    "        T (float): Temperature (K).\n",
    "        x (float): Alloy fraction (dimensionless, between 0 and 1).\n",
    "        n_2DEG (float): 2D electron concentration (cm^-2).\n",
    "        delta_V0 (float): Alloy disorder potential energy (J), default is 2.0 eV.\n",
    "\n",
    "    Returns:\n",
    "        float: Mobility limited by alloy disorder scattering (cm^2/V·s).\n",
    "    \"\"\"\n",
    "    b = (33 * q**2 * m_star * n_2DEG / (8 * eps0 * epsilon_s * hbar**2))**(1/3)\n",
    "    \n",
    "    # Calculate mobility\n",
    "    numerator = q * hbar**3 * 16\n",
    "    denominator = (m_star * delta_V0)**2 * Volume_unitcell * (1 - x) * x * 3 * b\n",
    "    mobility = numerator / denominator\n",
    "    \n",
    "    return mobility * 1e4  # Convert to cm²/V·s\n",
    "\n",
    "\n",
    "# ---------------------------------------------\n",
    "# Function 6: Remote Impurity Scattering\n",
    "# ---------------------------------------------\n",
    "\n",
    "def impurity_scattering_mobility(T, n_2DEG, n_imp, d):\n",
    "    \"\"\"\n",
    "    Calculate and plot mobility due to impurity scattering as a function of distance between 2D electron gas and impurities.\n",
    "\n",
    "    Parameters:\n",
    "        T (float): Temperature (K).\n",
    "        n_2DEG (float): 2D electron gas concentration (m^-2).\n",
    "        n_imp (float): Impurity concentration (m^-2).\n",
    "        d (float): Distance between 2D electron gas and impurities (m).\n",
    "\n",
    "    Returns:\n",
    "        float: Mobility limited by alloy disorder scattering (cm^2/V·s).\n",
    "\n",
    "    \"\"\"\n",
    "    \n",
    "    # Calculate Fermi wavevector\n",
    "    k_F = np.sqrt(2 * np.pi * n_2DEG)\n",
    "    \n",
    "    # Define mobility calculation\n",
    "    mobility =  (8 * q / (np.pi * hbar)) * (k_F * d)**3 / n_imp\n",
    "\n",
    "    return mobility * 1e4  # Convert to cm²/V·s\n",
    "\n",
    "\n",
    "def mobility_combined_func(T, n_2DEG, x, N_imp, N_dis, f_dis, N_imp_ionized, N_imp_barrier, d_ionized, d_imp_barrier, delta_V0, L, delta, omega_0):\n",
    "    \"\"\"\n",
    "    Calculate the combined mobility of a 2D electron gas due to various scattering mechanisms.\n",
    "\n",
    "    Parameters:\n",
    "        T (float): Temperature (K).\n",
    "        n_2DEG (float): 2D electron gas concentration (m^-2).\n",
    "        x (float): Alloy fraction (dimensionless, between 0 and 1).\n",
    "        N_imp (float): Impurity density (m^-3).\n",
    "        N_dis (float): Dislocation density (m^-2).\n",
    "        f_dis (float): Form factor (dimensionless).\n",
    "        N_imp_ionized (float): Ionized impurity density (m^-2).\n",
    "        d_ionized (float): Distance between 2D electron gas and ionized impurities (m).\n",
    "        delta_V0 (float): Alloy disorder potential energy (J).\n",
    "\n",
    "    Returns:\n",
    "        float: Combined mobility of a 2D electron gas (cm^2/V·s).\n",
    "    \"\"\"\n",
    "    # Calculate material parameters\n",
    "    m_star = m_star_func(x)\n",
    "    epsilon_s = epsilon_s_func(x)  # Static dielectric constant\n",
    "\n",
    "    # Calculate mobilities due to different scattering mechanisms\n",
    "    mu_irf = mobility_irf(T, n_2DEG, L, delta, m_star, epsilon_s)\n",
    "    mu_imp = mobility_imp(T, n_2DEG, N_imp, epsilon_s, m_star)\n",
    "    mu_dis = mobility_dislocation(T, n_2DEG, N_dis, f_dis, m_star, q, eps0, epsilon_s, c_func(x))\n",
    "    mu_pop = mobility_pop(T, n_2DEG, omega_0, epsilon_s, epsilon_s, m_star)\n",
    "    mu_alloy = mobility_alloy_disorder(T, n_2DEG, x, m_star, epsilon_s, Volume_unitcell_func(x), delta_V0)\n",
    "    mu_remote_imp = impurity_scattering_mobility(T, n_2DEG, N_imp_ionized, d_ionized)\n",
    "    mu_remote_imp_barrier = impurity_scattering_mobility(T, n_2DEG, N_imp_barrier, d_imp_barrier)\n",
    "\n",
    "    # Calculate the combined mobility\n",
    "    mu_combined_inv = 1 / mu_irf + 1 / mu_imp + 1 / mu_dis + 1 / mu_pop + 1 / mu_alloy + 1 / mu_remote_imp + 1/mu_remote_imp_barrier\n",
    "    mu_combined = 1 / mu_combined_inv\n",
    "\n",
    "    return mu_combined"
   ]
  },
  {
   "cell_type": "code",
   "execution_count": 83,
   "metadata": {},
   "outputs": [
    {
     "name": "stdout",
     "output_type": "stream",
     "text": [
      "Mobility (IRF): 14439.989414231059 cm^2/Vs\n",
      "Mobility (Background Impurity): 4623342.180486793 cm^2/Vs\n",
      "Mobility (Dislocation): 1232530.457592854 cm^2/Vs\n",
      "Mobility (POP): 89324682920.12561 cm^2/Vs\n",
      "Mobility (Alloy Disorder) (x=0.65): 126.43399297346217 cm^2/V·s\n",
      "Mobility (Remote Impurity): 650306253.2416193 cm^2/Vs\n",
      "Mobility (Remote Impurity Barrier): 3251.5312662080973 cm^2/Vs\n"
     ]
    }
   ],
   "source": [
    "# Example usage:\n",
    "x = 0.65\n",
    "\n",
    "T = 300  # Temperature (K)\n",
    "m_star = m_star_func(x)\n",
    "epsilon_s = epsilon_s_func(x)  # Static dielectric constant\n",
    "\n",
    "\n",
    "n_2DEG = 1e17           # Carrier density (m^-2)\n",
    "N_imp = 5e20            # Impurity density (m^-3)\n",
    "omega_0 = 1.4585e+14    # Optical phonon frequency (rad/s)\n",
    "\n",
    "L = 20e-10  # Roughness length scale (m)\n",
    "delta = 3e-10  # Roughness amplitude (m)\n",
    "\n",
    "N_dis = 1e12  # Dislocation density (m^-2)\n",
    "f_dis = 0.5  # Form factor\n",
    "\n",
    "\n",
    "N_imp_ionized = 1e17  # Ionized impurity density (m^-2)\n",
    "d_ionized = 150e-9  # Distance between 2D electron gas and ionized impurities (m)\n",
    "\n",
    "delta_V0 = 1.5 * 1.6e-19  # Alloy disorder potential energy (J)\n",
    "\n",
    "N_imp_barrier = 1e24*20e-9  # Impurity density (m^-2)\n",
    "d_imp_barrier = 1.5e-9  # Distance between 2D electron gas and impurities (m)\n",
    "\n",
    "print(\"Mobility (IRF):\", mobility_irf(T, n_2DEG, L, delta, m_star, epsilon_s), \"cm^2/Vs\")\n",
    "print(\"Mobility (Background Impurity):\", mobility_imp(T, n_2DEG, N_imp, epsilon_s, m_star), \"cm^2/Vs\")\n",
    "print(\"Mobility (Dislocation):\", mobility_dislocation(T, n_2DEG, N_dis, f_dis, m_star, q, eps0, epsilon_s, c_func(x)), \"cm^2/Vs\")\n",
    "print(\"Mobility (POP):\", mobility_pop(T, n_2DEG, omega_0, epsilon_s, epsilon_s, m_star), \"cm^2/Vs\")\n",
    "print(f\"Mobility (Alloy Disorder) (x={x}): {mobility_alloy_disorder(T, n_2DEG, x, m_star_func(x), epsilon_s_func(x), Volume_unitcell_func(x), delta_V0)} cm^2/V·s\")\n",
    "print(\"Mobility (Remote Impurity):\", impurity_scattering_mobility(T, n_2DEG, N_imp_ionized, d_ionized), \"cm^2/Vs\")\n",
    "print(\"Mobility (Remote Impurity Barrier):\", impurity_scattering_mobility(T, n_2DEG, N_imp_barrier, d_imp_barrier), \"cm^2/Vs\")\n",
    "\n",
    "# print(\"Mobility (Remote Impurity):\", impurity_scattering_mobility(T, n_2DEG, N_imp_ionized, 180e-9), \"cm^2/Vs\")\n",
    "\n"
   ]
  },
  {
   "cell_type": "code",
   "execution_count": 84,
   "metadata": {},
   "outputs": [
    {
     "data": {
      "text/plain": [
       "120.6695606419348"
      ]
     },
     "execution_count": 84,
     "metadata": {},
     "output_type": "execute_result"
    }
   ],
   "source": [
    "mobility_combined_func(T, n_2DEG, x, N_imp, N_dis, f_dis, N_imp_ionized, N_imp_barrier,d_ionized, d_imp_barrier, delta_V0, L, delta, omega_0)"
   ]
  },
  {
   "cell_type": "code",
   "execution_count": 85,
   "metadata": {},
   "outputs": [],
   "source": [
    "mobility_combined = 1 / (1/mobility_irf(T, n_2DEG, L, delta, m_star, epsilon_s) \n",
    "                         + 1/mobility_imp(T, n_2DEG, N_imp, epsilon_s, m_star) \n",
    "                         + 1/mobility_dislocation(T, n_2DEG, N_dis, f_dis, m_star, q, eps0, epsilon_s, c_func(x)) \n",
    "                         + 1/mobility_pop(T, n_2DEG, omega_0, epsilon_s, epsilon_s, m_star) \n",
    "                         + 1/mobility_alloy_disorder(T, n_2DEG, x, m_star_func(x), epsilon_s_func(x), Volume_unitcell_func(x), delta_V0)\n",
    "                         + 1/impurity_scattering_mobility(T, n_2DEG, N_imp_ionized, d_ionized))\n",
    "            "
   ]
  },
  {
   "cell_type": "code",
   "execution_count": 86,
   "metadata": {},
   "outputs": [
    {
     "data": {
      "text/plain": [
       "125.32040256179037"
      ]
     },
     "execution_count": 86,
     "metadata": {},
     "output_type": "execute_result"
    }
   ],
   "source": [
    "mobility_combined"
   ]
  },
  {
   "cell_type": "code",
   "execution_count": 95,
   "metadata": {},
   "outputs": [],
   "source": [
    "N_imp_ionized_arr = np.linspace(1e16, 2e19, 1000)\n",
    "n_DEG_arr = np.array([6e16, 8e16, 1e17])\n"
   ]
  },
  {
   "cell_type": "code",
   "execution_count": null,
   "metadata": {},
   "outputs": [],
   "source": []
  },
  {
   "cell_type": "code",
   "execution_count": 99,
   "metadata": {},
   "outputs": [],
   "source": [
    "mobility = []\n",
    "u_remote_impurity_arr = []\n",
    "u_dislocation_arr = []\n",
    "u_background_impurity_arr = []\n",
    "u_alloy_arr = []\n",
    "u_pop_arr = []\n",
    "u_irf_arr = []\n",
    "u_remote_barrier_arr = []\n",
    "\n",
    "for n_2DEG in n_DEG_arr:\n",
    "    mobility.append(mobility_combined_func(T, n_2DEG, x, N_imp, N_dis, f_dis, N_imp_ionized_arr, N_imp_barrier,d_ionized, d_imp_barrier, delta_V0, L, delta, omega_0))\n",
    "    u_remote_impurity_arr.append(impurity_scattering_mobility(T, n_2DEG, N_imp_ionized_arr, d_ionized))\n",
    "    u_dislocation_arr.append(mobility_dislocation(T, n_2DEG, N_dis, f_dis, m_star, q, eps0, epsilon_s, c_func(x)))\n",
    "    u_background_impurity_arr.append(mobility_imp(T, n_2DEG, N_imp, epsilon_s, m_star))\n",
    "    u_alloy_arr.append(mobility_alloy_disorder(T, n_2DEG, x, m_star_func(x), epsilon_s_func(x), Volume_unitcell_func(x), delta_V0))\n",
    "    u_pop_arr.append(mobility_pop(T, n_2DEG, omega_0, epsilon_s, epsilon_s, m_star))\n",
    "    u_irf_arr.append(mobility_irf(T, n_2DEG, L, delta, m_star, epsilon_s))\n",
    "    u_remote_barrier_arr.append(impurity_scattering_mobility(T, n_2DEG, 5e24/20e-9, 1e-9))        # Remote Ionization Scattering"
   ]
  },
  {
   "cell_type": "code",
   "execution_count": 100,
   "metadata": {},
   "outputs": [
    {
     "data": {
      "text/plain": [
       "[635975.9472648838, 921113.6918584338, 1232530.457592854]"
      ]
     },
     "execution_count": 100,
     "metadata": {},
     "output_type": "execute_result"
    }
   ],
   "source": [
    "u_dislocation_arr"
   ]
  },
  {
   "cell_type": "code",
   "execution_count": 102,
   "metadata": {},
   "outputs": [
    {
     "data": {
      "text/plain": [
       "(3, 1000)"
      ]
     },
     "execution_count": 102,
     "metadata": {},
     "output_type": "execute_result"
    }
   ],
   "source": [
    "np.shape(mobility)"
   ]
  },
  {
   "cell_type": "code",
   "execution_count": 109,
   "metadata": {},
   "outputs": [
    {
     "data": {
      "image/png": "[encoded data removed]",
      "text/plain": [
       "<Figure size 640x480 with 1 Axes>"
      ]
     },
     "metadata": {},
     "output_type": "display_data"
    }
   ],
   "source": [
    "plt.close()\n",
    "plt.figure()\n",
    "for i in range(np.shape(mobility)[0]):\n",
    "    plt.plot(N_imp_ionized_arr, mobility[i], label=f'n_2DEG = {n_DEG_arr[i]}')\n",
    "    # plt.plot(N_imp_ionized_arr, u_remote_impurity_arr[i], label='Remote Impurity')\n",
    "    # plt.plot(N_imp_ionized_arr, np.repeat(u_dislocation_arr[i], 100), label='Dislocation')\n",
    "    # plt.plot(N_imp_ionized_arr, np.repeat(u_background_impurity_arr[i], 100), label='Background Impurity')\n",
    "    # plt.plot(N_imp_ionized_arr, np.repeat(u_alloy_arr[i], 100), label='Alloy Disorder')\n",
    "    # plt.plot(N_imp_ionized_arr, np.repeat(u_pop_arr[i], 100), label='POP')\n",
    "    # plt.plot(N_imp_ionized_arr, np.repeat(u_irf_arr[i], 100), label='IRF')\n",
    "\n",
    "plt.xlabel('Ionized impurity density (m^-2)')\n",
    "plt.ylabel('Mobility (cm^2/V·s)')\n",
    "plt.title('Mobility vs Ionized impurity density')\n",
    "plt.yscale('log')\n",
    "plt.xscale('log')\n",
    "plt.legend()\n",
    "plt.show()"
   ]
  },
  {
   "cell_type": "code",
   "execution_count": null,
   "metadata": {},
   "outputs": [],
   "source": []
  }
 ],
 "metadata": {
  "language_info": {
   "name": "python"
  }
 },
 "nbformat": 4,
 "nbformat_minor": 2
}
