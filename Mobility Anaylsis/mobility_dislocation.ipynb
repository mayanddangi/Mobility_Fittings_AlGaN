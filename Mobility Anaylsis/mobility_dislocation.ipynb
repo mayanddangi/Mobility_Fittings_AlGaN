{
 "cells": [
  {
   "cell_type": "code",
   "execution_count": 1,
   "metadata": {},
   "outputs": [],
   "source": [
    "import numpy as np\n",
    "import matplotlib.pyplot as plt\n",
    "from mpmath import mp, quad, sqrt, pi\n",
    "from scipy.integrate import quad"
   ]
  },
  {
   "cell_type": "code",
   "execution_count": 2,
   "metadata": {},
   "outputs": [],
   "source": [
    "# Set precision (number of significant digits)\n",
    "mp.dps = 50 "
   ]
  },
  {
   "cell_type": "code",
   "execution_count": 3,
   "metadata": {},
   "outputs": [],
   "source": [
    "# Constants (SI units)\n",
    "\n",
    "q = 1.602176634e-19                 # Elementary charge (C)\n",
    "m_star = 0.32 * 9.10938356e-31      # Effective mass (kg)\n",
    "epsilon_0 = 8.854187817e-12         # Vacuum permittivity (F/m)\n",
    "epsilon_s = 8.86                    # Relative permittivity of the material\n",
    "hbar = 1.0545718e-34                # Reduced Planck's constant (J.s)\n",
    "\n",
    "c0 = 5.04e-10                       # Lattice constant (m)\n",
    "\n",
    "q_TF = 1e9  # Thomas-Fermi wavevector (1/m)\n",
    "# k_F = 1e10  # Fermi wavevector (1/m)"
   ]
  },
  {
   "cell_type": "code",
   "execution_count": 30,
   "metadata": {},
   "outputs": [],
   "source": [
    "N_DIS = 1e12                                                    # Density of scattering centers (per m^2)\n",
    "f_DIS = 0.5                                                     # Form factor (dimensionless)\n",
    "n_2DEG = 2.4e16                                                   # 2D electron density (m^-2)\n",
    "k_F = mp.sqrt(2 * pi * n_2DEG)                               # Fermi wavevector (1/m)\n",
    "q_TF = (m_star * q**2)/(2*pi *epsilon_s*epsilon_0 * hbar**2)    # Thomas-Fermi wavevector (1/m)"
   ]
  },
  {
   "cell_type": "code",
   "execution_count": 31,
   "metadata": {},
   "outputs": [
    {
     "name": "stdout",
     "output_type": "stream",
     "text": [
      "k_F = 388325182.5111398508080052033728092360569566519883\n",
      "q_TF = 1365039210.9117979711016218417898812166727267095029\n",
      "q_TF/2k_F = 1.7575981064177304670806018374239997936683939102281\n"
     ]
    }
   ],
   "source": [
    "print(f'k_F = {k_F}')\n",
    "print(f'q_TF = {q_TF}')\n",
    "\n",
    "print(f'q_TF/2k_F = {q_TF/(2*k_F)}')"
   ]
  },
  {
   "cell_type": "code",
   "execution_count": 32,
   "metadata": {},
   "outputs": [],
   "source": [
    "def integrand(u):\n",
    "    return 1 / ((u + q_TF / (2 * k_F))**2 * sqrt(1 - u**2))"
   ]
  },
  {
   "cell_type": "code",
   "execution_count": 33,
   "metadata": {},
   "outputs": [
    {
     "name": "stdout",
     "output_type": "stream",
     "text": [
      "Integral result: (0.28966926184048797, 5.134331848566376e-11)\n",
      "Scattering rate (1/τ_DIS): 26550728453.376856113137456524583078372706315235752 s^-1\n",
      "Scattering time (τ_DIS): 0.000000000037663750045728592256925449648605223761501075777886 s\n",
      "Mobility: 20.701174465669186479866654208290159741863571584871 m^2/Vs\n"
     ]
    }
   ],
   "source": [
    "integral_result = quad(integrand, 0, 1)\n",
    "print(\"Integral result:\", integral_result)\n",
    "scattering_rate = (\n",
    "    (q**4 * m_star * N_DIS * f_DIS**2) / \n",
    "    (c0**2 * (epsilon_0 * epsilon_s)**2 * hbar**3 * 4*pi*k_F**4)\n",
    ") * integral_result[0]\n",
    "\n",
    "\n",
    "# Compute the scattering time (τ_DIS)\n",
    "scattering_time = 1 / scattering_rate\n",
    "\n",
    "# Print the results\n",
    "print(\"Scattering rate (1/τ_DIS):\", scattering_rate, \"s^-1\")\n",
    "print(\"Scattering time (τ_DIS):\", scattering_time, \"s\")\n",
    "\n",
    "mobility = (q * scattering_time) / (m_star)\n",
    "print(\"Mobility:\", mobility, \"m^2/Vs\")"
   ]
  },
  {
   "cell_type": "code",
   "execution_count": null,
   "metadata": {},
   "outputs": [],
   "source": []
  },
  {
   "cell_type": "code",
   "execution_count": null,
   "metadata": {},
   "outputs": [],
   "source": []
  },
  {
   "cell_type": "code",
   "execution_count": null,
   "metadata": {},
   "outputs": [],
   "source": []
  },
  {
   "cell_type": "code",
   "execution_count": null,
   "metadata": {},
   "outputs": [],
   "source": []
  },
  {
   "cell_type": "code",
   "execution_count": null,
   "metadata": {},
   "outputs": [],
   "source": []
  }
 ],
 "metadata": {
  "language_info": {
   "name": "python"
  }
 },
 "nbformat": 4,
 "nbformat_minor": 2
}
